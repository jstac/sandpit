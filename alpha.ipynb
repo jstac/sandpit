{
 "cells": [
  {
   "cell_type": "code",
   "execution_count": 3,
   "metadata": {},
   "outputs": [],
   "source": [
    "import numpy as np\n",
    "import matplotlib.pyplot as plt"
   ]
  },
  {
   "cell_type": "markdown",
   "metadata": {},
   "source": [
    "## Tail estimation with lognormal distribution\n",
    "\n",
    "Suppose\n",
    "\n",
    "$$\n",
    "\\frac{S_{t+1}}{S_{t}} = A\n",
    "$$\n",
    "\n",
    "where\n",
    "\n",
    "- $S_t$ is the firm size at time $t$\n",
    "- $\\ln A \\sim N(\\mu, \\sigma^2)$\n",
    "\n",
    "\n",
    "We seek the $\\alpha$ satisfying\n",
    "\n",
    "$$\n",
    "\\mathbb E (A^{\\alpha} ) = 1 \n",
    "$$\n",
    "\n",
    "By the expression for the mean of a lognormal distribution, with $\\epsilon \\sim N(0,1)$,\n",
    "\n",
    "$$\n",
    "\\mathbb E (A^{\\alpha} ) =  \\mathbb E (\\exp (\\mu + \\sigma \\epsilon)^{\\alpha} )\n",
    "= \\mathbb E (\\exp (\\mu \\alpha + \\sigma \\epsilon \\alpha) ) \n",
    "= \\exp \\left(  \\alpha \\mu + \\frac{\\sigma^2 \\alpha^2}{2} \\right)\n",
    "$$\n",
    "\n",
    "\n",
    "Hence we seek the $\\alpha$ satisfying\n",
    "$$\n",
    "\\exp (  \\alpha \\mu + \\frac{\\sigma^2 \\alpha^2}{2} ) =1 \n",
    "$$\n",
    "\n",
    "Taking logarithm of both sides yields\n",
    "\n",
    "$$\n",
    "\\alpha \\mu + \\frac{\\sigma^2 \\alpha^2}{2} =0\n",
    "$$\n",
    "\n",
    "Rearranging, we get\n",
    "\n",
    "$$\n",
    "\\alpha = - \\frac{2 \\mu}{\\sigma^2} \n",
    "$$\n",
    "\n"
   ]
  },
  {
   "cell_type": "markdown",
   "metadata": {},
   "source": [
    "## Tail estimation with Laplacian distribution"
   ]
  },
  {
   "cell_type": "markdown",
   "metadata": {},
   "source": [
    "Now we assume that $\\ln A$ has a Laplacian distribution."
   ]
  },
  {
   "cell_type": "markdown",
   "metadata": {},
   "source": [
    "Here's a function called ``laplace`` to generate density its density"
   ]
  },
  {
   "cell_type": "code",
   "execution_count": 4,
   "metadata": {},
   "outputs": [],
   "source": [
    "def laplace(x, μ, λ):\n",
    "    return 0.5 * λ * np.exp(- λ * np.abs(x - μ))"
   ]
  },
  {
   "cell_type": "markdown",
   "metadata": {},
   "source": [
    "Example:"
   ]
  },
  {
   "cell_type": "code",
   "execution_count": 5,
   "metadata": {},
   "outputs": [
    {
     "data": {
      "image/png": "[encoded data removed]",
      "text/plain": [
       "<Figure size 432x288 with 1 Axes>"
      ]
     },
     "metadata": {
      "needs_background": "light"
     },
     "output_type": "display_data"
    }
   ],
   "source": [
    "x_grid = np.linspace(0.01, 10, 200)\n",
    "y_vals = laplace(x_grid, 5.0, 2.0)\n",
    "\n",
    "fig, ax = plt.subplots()\n",
    "plt.plot(x_grid, y_vals)\n",
    "plt.show()"
   ]
  },
  {
   "cell_type": "markdown",
   "metadata": {},
   "source": [
    "Let $G = \\ln A$.\n",
    "\n",
    "We seek the $\\alpha$ such that $\\mathbb E A^\\alpha = \\mathbb E \\exp(\\alpha G) = 1$\n",
    "\n",
    "In other words, we seek the $\\alpha$ where $m(\\alpha) = 1$, where $m$ is the MGF of $G$.\n",
    "\n",
    "We can obtain this as the MGF of the Laplacian distribution:"
   ]
  },
  {
   "cell_type": "code",
   "execution_count": 6,
   "metadata": {},
   "outputs": [],
   "source": [
    "def m(α, μ=-0.02, λ=10):\n",
    "    \"Moment generating function, Laplace distribution\"\n",
    "    return np.exp(μ * α) / (1 - α**2 / λ**2)"
   ]
  },
  {
   "cell_type": "markdown",
   "metadata": {},
   "source": [
    "Does there exists an $\\alpha > 0$ such that $m(\\alpha) = 1$?"
   ]
  },
  {
   "cell_type": "code",
   "execution_count": 7,
   "metadata": {},
   "outputs": [
    {
     "data": {
      "image/png": "[encoded data removed]",
      "text/plain": [
       "<Figure size 432x288 with 1 Axes>"
      ]
     },
     "metadata": {
      "needs_background": "light"
     },
     "output_type": "display_data"
    }
   ],
   "source": [
    "alpha_grid = np.linspace(0.01, 3, 100)\n",
    "y_vals = m(alpha_grid)\n",
    "\n",
    "fig, ax = plt.subplots()\n",
    "plt.plot(alpha_grid, y_vals)\n",
    "plt.plot(alpha_grid, np.ones_like(alpha_grid), '--')\n",
    "plt.show()"
   ]
  },
  {
   "cell_type": "markdown",
   "metadata": {},
   "source": [
    "For these choices of $\\mu$ and $\\lambda$, the value of $\\alpha$ is around 1.9.\n",
    "\n",
    "What about if $\\mu$ and $\\lambda$ are estimated from IID observations of the growth rate?"
   ]
  },
  {
   "cell_type": "code",
   "execution_count": null,
   "metadata": {},
   "outputs": [],
   "source": []
  }
 ],
 "metadata": {
  "kernelspec": {
   "display_name": "Python 3",
   "language": "python",
   "name": "python3"
  },
  "language_info": {
   "codemirror_mode": {
    "name": "ipython",
    "version": 3
   },
   "file_extension": ".py",
   "mimetype": "text/x-python",
   "name": "python",
   "nbconvert_exporter": "python",
   "pygments_lexer": "ipython3",
   "version": "3.7.4"
  }
 },
 "nbformat": 4,
 "nbformat_minor": 4
}
