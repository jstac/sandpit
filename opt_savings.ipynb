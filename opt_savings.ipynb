{
 "cells": [
  {
   "cell_type": "code",
   "execution_count": 1,
   "id": "ce97681c",
   "metadata": {},
   "outputs": [],
   "source": [
    "using Interpolations, Optim"
   ]
  },
  {
   "cell_type": "code",
   "execution_count": 27,
   "id": "ba34209c",
   "metadata": {},
   "outputs": [
    {
     "data": {
      "text/plain": [
       "lin_interp"
      ]
     },
     "execution_count": 27,
     "metadata": {},
     "output_type": "execute_result"
    }
   ],
   "source": [
    "\"\"\"\n",
    "Linear interpolation with constant extrapolation outside the bounds.\n",
    "\"\"\"\n",
    "function lin_interp(x, fx)\n",
    "    return linear_interpolation(x, fx, \n",
    "                extrapolation_bc = Interpolations.Flat())\n",
    "end"
   ]
  },
  {
   "cell_type": "code",
   "execution_count": 28,
   "id": "d50af698",
   "metadata": {
    "lines_to_next_cell": 2
   },
   "outputs": [
    {
     "data": {
      "text/plain": [
       "create_opt_savings_model (generic function with 1 method)"
      ]
     },
     "execution_count": 28,
     "metadata": {},
     "output_type": "execute_result"
    }
   ],
   "source": [
    "function create_opt_savings_model(; β=0.9, \n",
    "                                    γ=2.0,\n",
    "                                    R=1.2,\n",
    "                                    w_size=100,\n",
    "                                    w_max=10)\n",
    "    w_grid = LinRange(1e-8, w_max, w_size)\n",
    "    u(c) = c^(1 - γ) / (1 - γ)\n",
    "    v_init = u.(w_grid)\n",
    "    return (; β, u, R, w_grid, v_init)\n",
    "end"
   ]
  },
  {
   "cell_type": "code",
   "execution_count": 29,
   "id": "f469f076",
   "metadata": {
    "lines_to_next_cell": 2
   },
   "outputs": [
    {
     "data": {
      "text/plain": [
       "T"
      ]
     },
     "execution_count": 29,
     "metadata": {},
     "output_type": "execute_result"
    }
   ],
   "source": [
    "\"\"\"\n",
    "The Bellman operator\n",
    "\n",
    "    (Tv)(w) = min_{0 ≤ c ≤ w} { u(c) + β v(R(w - c))}\n",
    "\n",
    "\"\"\"\n",
    "function T(v, model)\n",
    "    (; β, u, R, w_grid) = model\n",
    "\n",
    "    v_new = similar(v)\n",
    "    σ = similar(v) \n",
    "    v = lin_interp(w_grid, v)\n",
    "\n",
    "    for (i, w) in enumerate(w_grid)\n",
    "        result = maximize(c -> u(c) + β * v(R * (w - c)), 0.0, w) \n",
    "        v_new[i] = Optim.maximum(result)\n",
    "        σ[i] = Optim.maximizer(result)\n",
    "    end\n",
    "\n",
    "    return (; σ, v_new)\n",
    "end"
   ]
  },
  {
   "cell_type": "code",
   "execution_count": 30,
   "id": "aa559ed3",
   "metadata": {},
   "outputs": [
    {
     "data": {
      "text/plain": [
       "vfi (generic function with 1 method)"
      ]
     },
     "execution_count": 30,
     "metadata": {},
     "output_type": "execute_result"
    }
   ],
   "source": [
    "function vfi(model;\n",
    "               tolerance=1e-6,    \n",
    "               max_iter=10_000,  \n",
    "               print_step=100)      \n",
    "\n",
    "    k = 0\n",
    "    error = tolerance + 1\n",
    "    v = model.v_init\n",
    "\n",
    "    while (error > tolerance) & (k <= max_iter)\n",
    "        (; v_new) = T(v, model)\n",
    "        error = maximum(abs.(v_new - v))\n",
    "        if k % print_step == 0\n",
    "            println(\"Completed iteration $k with error $error.\")\n",
    "        end\n",
    "        v = v_new\n",
    "        k += 1\n",
    "    end\n",
    "\n",
    "    if error <= tolerance\n",
    "        println(\"Terminated successfully in $k iterations.\")\n",
    "    else\n",
    "        println(\"Warning: hit iteration bound.\")\n",
    "    end\n",
    "\n",
    "    σ, v_new = T(v, model)\n",
    "    return σ, v_new\n",
    "end"
   ]
  },
  {
   "cell_type": "code",
   "execution_count": 31,
   "id": "75032b6e",
   "metadata": {
    "lines_to_next_cell": 2
   },
   "outputs": [
    {
     "data": {
      "text/plain": [
       "get_greedy"
      ]
     },
     "execution_count": 31,
     "metadata": {},
     "output_type": "execute_result"
    }
   ],
   "source": [
    "\" Get a v-greedy policy \"\n",
    "function get_greedy(v, model)\n",
    "    (; β, u, R, w_grid) = model\n",
    "    σ, v_new = T(v, model)\n",
    "    return σ\n",
    "end"
   ]
  },
  {
   "cell_type": "code",
   "execution_count": 32,
   "id": "cda2be6c",
   "metadata": {},
   "outputs": [
    {
     "data": {
      "text/plain": [
       "T_σ"
      ]
     },
     "execution_count": 32,
     "metadata": {},
     "output_type": "execute_result"
    }
   ],
   "source": [
    "\"\"\"\n",
    "The policy operator\n",
    "\n",
    "    (T_σ v)(w) =  u(σ(w)) + β v[R(w - σ(w))]\n",
    "\n",
    "\"\"\"\n",
    "function T_σ(v, σ, model)\n",
    "    (; β, u, R, w_grid) = model\n",
    "\n",
    "    v_new = similar(v)\n",
    "    v = lin_interp(w_grid, v)\n",
    "    for (i, w) in enumerate(w_grid)\n",
    "        c = σ[i]\n",
    "        v_new[i] = u(c) + β * v(R * (w - c))\n",
    "    end\n",
    "    return v_new\n",
    "end"
   ]
  },
  {
   "cell_type": "code",
   "execution_count": 33,
   "id": "0e12f36c",
   "metadata": {},
   "outputs": [
    {
     "data": {
      "text/plain": [
       "get_value"
      ]
     },
     "execution_count": 33,
     "metadata": {},
     "output_type": "execute_result"
    }
   ],
   "source": [
    "\"Approximate lifetime value of policy σ.\"\n",
    "function get_value(v_init, σ, m, model)\n",
    "    v = v_init\n",
    "    for i in 1:m\n",
    "        v = T_σ(v, σ, model)\n",
    "    end\n",
    "    return v\n",
    "end"
   ]
  },
  {
   "cell_type": "code",
   "execution_count": 34,
   "id": "4b859670",
   "metadata": {
    "lines_to_next_cell": 2
   },
   "outputs": [
    {
     "data": {
      "text/plain": [
       "policy_iteration"
      ]
     },
     "execution_count": 34,
     "metadata": {},
     "output_type": "execute_result"
    }
   ],
   "source": [
    "\"Howard policy iteration routine.\"\n",
    "function policy_iteration(model; \n",
    "                          tolerance=1e-6, \n",
    "                          max_iter=1_000,\n",
    "                          m=10,\n",
    "                          print_step=10)\n",
    "    v = model.v_init\n",
    "    error = tolerance + 1\n",
    "    k = 1\n",
    "    while error > tolerance && k < max_iter\n",
    "        last_v = v\n",
    "        σ = get_greedy(v, model)\n",
    "        v = get_value(v, σ, m, model)\n",
    "        error = maximum(abs.(v - last_v))\n",
    "        if k % print_step == 0\n",
    "            println(\"Completed iteration $k with error $error.\")\n",
    "        end\n",
    "        k += 1\n",
    "    end\n",
    "    return get_greedy(v, model), v\n",
    "end"
   ]
  },
  {
   "cell_type": "code",
   "execution_count": 35,
   "id": "8b6196b7",
   "metadata": {},
   "outputs": [
    {
     "data": {
      "text/plain": [
       "12"
      ]
     },
     "execution_count": 35,
     "metadata": {},
     "output_type": "execute_result"
    }
   ],
   "source": [
    "using PyPlot\n",
    "using LaTeXStrings\n",
    "fontsize=12"
   ]
  },
  {
   "cell_type": "code",
   "execution_count": 36,
   "id": "999fd2b8",
   "metadata": {},
   "outputs": [],
   "source": [
    "model = create_opt_savings_model()\n",
    "(; β, u, R, w_grid, v_init) = model;"
   ]
  },
  {
   "cell_type": "code",
   "execution_count": 37,
   "id": "8c685069",
   "metadata": {},
   "outputs": [
    {
     "name": "stdout",
     "output_type": "stream",
     "text": [
      "Solving via VFI. \n",
      "\n",
      "\n",
      "Completed iteration 0 with error 9.000000634421515e7.\n",
      "Completed iteration 100 with error 2390.5260684490204.\n",
      "Completed iteration 200 with error 0.06349575519561768.\n",
      "Completed iteration 300 with error 1.6689300537109375e-6.\n",
      "Terminated successfully in 306 iterations.\n",
      "  0.171449 seconds (139.28 k allocations: 11.239 MiB, 73.90% compilation time)\n",
      "elapsed time (ns):  171449305\n",
      "gc time (ns):       0\n",
      "bytes allocated:    11784958\n",
      "pool allocs:        139169\n",
      "non-pool GC allocs: 113\n",
      "minor collections:  0\n",
      "full collections:   0\n"
     ]
    }
   ],
   "source": [
    "println(\"Solving via VFI. \\n\\n\")\n",
    "@timev σ_star, v_star = vfi(model);"
   ]
  },
  {
   "cell_type": "code",
   "execution_count": 38,
   "id": "fec4fee2",
   "metadata": {},
   "outputs": [
    {
     "name": "stdout",
     "output_type": "stream",
     "text": [
      "\n",
      "\n",
      "Solving via HPI.\n",
      "\n",
      "\n",
      "Completed iteration 10 with error 44654.35739028454.\n",
      "Completed iteration 20 with error 1.1860822439193726.\n",
      "Completed iteration 30 with error 3.159046173095703e-5.\n",
      "  0.098984 seconds (38.95 k allocations: 3.262 MiB, 93.19% compilation time)\n",
      "elapsed time (ns):  98983597\n",
      "gc time (ns):       0\n",
      "bytes allocated:    3420697\n",
      "pool allocs:        38889\n",
      "non-pool GC allocs: 58\n",
      "minor collections:  0\n",
      "full collections:   0\n"
     ]
    }
   ],
   "source": [
    "println(\"\\n\\nSolving via HPI.\\n\\n\")\n",
    "@timev σ_star_hpi, v_star_hpi = policy_iteration(model);"
   ]
  },
  {
   "cell_type": "code",
   "execution_count": 40,
   "id": "51e39b40",
   "metadata": {},
   "outputs": [
    {
     "data": {
      "image/png": "[encoded data removed]",
      "text/plain": [
       "Figure(PyObject <Figure size 800x520 with 1 Axes>)"
      ]
     },
     "metadata": {},
     "output_type": "display_data"
    }
   ],
   "source": [
    "fig, ax = plt.subplots(figsize=(8, 5.2))\n",
    "ax.plot(w_grid, w_grid, \"k--\", label=L\"45\")\n",
    "ax.plot(w_grid, σ_star, lw=2, label=\"VFI\")\n",
    "ax.plot(w_grid, σ_star_hpi, \"--\", lw=2, label=\"HPI\")\n",
    "ax.legend(fontsize=fontsize)\n",
    "plt.show()"
   ]
  },
  {
   "cell_type": "code",
   "execution_count": null,
   "id": "eadb05c1",
   "metadata": {},
   "outputs": [],
   "source": []
  }
 ],
 "metadata": {
  "jupytext": {
   "cell_metadata_filter": "-all",
   "main_language": "julia",
   "notebook_metadata_filter": "-all"
  },
  "kernelspec": {
   "display_name": "Julia 1.9.1",
   "language": "julia",
   "name": "julia-1.9"
  },
  "language_info": {
   "file_extension": ".jl",
   "mimetype": "application/julia",
   "name": "julia",
   "version": "1.9.1"
  }
 },
 "nbformat": 4,
 "nbformat_minor": 5
}
