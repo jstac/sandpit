{
 "cells": [
  {
   "cell_type": "code",
   "execution_count": null,
   "id": "8bf026c7",
   "metadata": {
    "lines_to_next_cell": 0
   },
   "outputs": [],
   "source": []
  },
  {
   "cell_type": "code",
   "execution_count": null,
   "id": "993b6a16",
   "metadata": {
    "lines_to_next_cell": 1
   },
   "outputs": [],
   "source": [
    "import matplotlib.pyplot as plt\n",
    "import numpy as np"
   ]
  },
  {
   "cell_type": "code",
   "execution_count": null,
   "id": "f1e45488",
   "metadata": {},
   "outputs": [],
   "source": [
    "def demand(price, B, Q_ref, P_ref):\n",
    "    return 1 / (1.0 + np.exp(-(np.log(Q_ref / (1.0 - Q_ref)) + B * np.log(price))))"
   ]
  },
  {
   "cell_type": "code",
   "execution_count": null,
   "id": "920f6a41",
   "metadata": {},
   "outputs": [],
   "source": [
    "elasticities = [-0.5, -1.5, -2.5]\n",
    "fee = np.linspace(0.1, 10.0, 100)\n",
    "BaselineFee = 0.027"
   ]
  },
  {
   "cell_type": "code",
   "execution_count": null,
   "id": "687e4fd9",
   "metadata": {},
   "outputs": [],
   "source": [
    "fig, ax = plt.subplots()"
   ]
  },
  {
   "cell_type": "code",
   "execution_count": null,
   "id": "8e0dad19",
   "metadata": {},
   "outputs": [],
   "source": [
    "for elasticity in elasticities:\n",
    "    \n",
    "    # Activity rate\n",
    "    Baseline_active = 0.36  \n",
    "    B1 = 0  ## Assuming no intensive margin elasticity. Otherwise set B2=elasticity \n",
    "    Active = demand(fee, B1, Baseline_active, BaselineFee)\n",
    "\n",
    "    # TPV\n",
    "    BaselineTPV = 4500\n",
    "    B2 = 0  ## Assuming no intensive margin elasticity. Otherwise set B2=elasticity \n",
    "    TPV = BaselineTPV  * (fee/BaselineFee)**B2\n",
    "    log_tpv = np.log(TPV)\n",
    "    \n",
    "    # OrderCount\n",
    "    AOV = 100\n",
    "    OrderCount = TPV/AOV   \n",
    "    \n",
    "    # COP\n",
    "    cop_per_dol = .0058\n",
    "    COP =  cop_per_dol\n",
    "        \n",
    "    # Merchant value\n",
    "    DirectCP = (fee - COP) * TPV + (0.30*OrderCount)\n",
    "    log_cp  = np.log(DirectCP)\n",
    "\n",
    "    # DSIM\n",
    "    DSIM = 0 ## Assuming away DSI for now\n",
    "        \n",
    "    # MV\n",
    "    MV = DirectCP + DSIM    \n",
    "    \n",
    "    # NewLaunch\n",
    "    Baseline_reg = 250\n",
    "    B3 = 0  ## Assuming no intensive margin elasticity. Otherwise set B3=elasticity \n",
    "    NewReg = Baseline_reg * (fee / BaselineFee)**B3\n",
    "    logReg = np.log(NewReg)\n",
    "\n",
    "    Baselaunch_rate = 0.15\n",
    "    B4 = elasticity\n",
    "    Launch_rate = demand(fee, B4, Baselaunch_rate, BaselineFee)\n",
    "\n",
    "    NewLaunch = NewReg * Launch_rate\n",
    "    logNewLaunch = np.log(NewLaunch)\n",
    "        \n",
    "    # Economic Value\n",
    "    profit = (NewLaunch * (36 * Active * MV))/1000\n",
    "    log_profit = np.log(profit)    \n",
    "    \n",
    "\n",
    "    ax.plot(fee, profit, label=f\"Elasticity = {elasticity}\")"
   ]
  },
  {
   "cell_type": "code",
   "execution_count": null,
   "id": "3c9d90ae",
   "metadata": {
    "lines_to_next_cell": 2
   },
   "outputs": [],
   "source": [
    "ax.set_xlabel(\"Price\")\n",
    "ax.set_ylabel(\"\")\n",
    "ax.legend()\n",
    "plt.show()\n",
    "#"
   ]
  }
 ],
 "metadata": {
  "jupytext": {
   "cell_metadata_filter": "-all",
   "main_language": "python",
   "notebook_metadata_filter": "-all"
  }
 },
 "nbformat": 4,
 "nbformat_minor": 5
}
